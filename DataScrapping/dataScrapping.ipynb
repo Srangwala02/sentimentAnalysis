{
 "cells": [
  {
   "cell_type": "code",
   "execution_count": 1,
   "id": "032f2eed-67a9-4649-95b6-6c18285f9b5e",
   "metadata": {},
   "outputs": [],
   "source": [
    "from bs4 import BeautifulSoup\n",
    "import requests\n",
    "import pandas as pd\n",
    "from langdetect import detect\n",
    "from translate import Translator\n",
    "import os"
   ]
  },
  {
   "cell_type": "code",
   "execution_count": 8,
   "id": "3780dbcf-92b5-463d-a8b9-e035a34e8e86",
   "metadata": {},
   "outputs": [],
   "source": [
    "# translator = Translator(to_lang=\"en\")\n",
    "# import re\n",
    "# def extract_reviews(soup):\n",
    "#     reviews = []\n",
    "#     review_divs = soup.find_all('div', {'data-hook': 'review'})\n",
    "\n",
    "#     for div in review_divs:\n",
    "#         review = {}\n",
    "#         review['customer_name'] = div.find('span', {'class': 'a-profile-name'}).text.strip()\n",
    "#         review['rating'] = div.find('span', {'class': 'a-icon-alt'}).text.split(' ')[0]\n",
    "#         a_tag = div.find('span', {'data-hook': 'review-title'})\n",
    "#         if a_tag:\n",
    "#             review['review_title'] = a_tag.find_all('span')[0].text.strip()\n",
    "#             # review['review_title'] = a_tag.find_all('span')[-1].text.strip()\n",
    "#         else:\n",
    "#             review['review_title'] = \"\"\n",
    "#         if div.find('span', {'class': 'a-size-base review-text review-text-content'}).span:\n",
    "#             text = div.find('span', {'class': 'a-size-base review-text review-text-content'}).span.text.strip()\n",
    "#             if text:\n",
    "#                 language = detect(text)\n",
    "#                 if language != 'en':\n",
    "#                     text = translator.translate(text).text\n",
    "#         else:\n",
    "#             text=\"\"\n",
    "#         review['review_text'] = text\n",
    "#         review['review_date'] = div.find('span', {'data-hook': 'review-date'}).text.strip()\n",
    "#         pname = soup.find('a', {'data-hook': 'product-link'}).text.strip()\n",
    "#         review['product_name'] = re.sub(r',', '', pname)\n",
    "#         reviews.append(review)\n",
    "#     print(\"-------------completed successfully---------------\")\n",
    "#     return reviews"
   ]
  },
  {
   "cell_type": "code",
   "execution_count": 10,
   "id": "597d64ce-4291-46e6-8cb0-897ec79682e8",
   "metadata": {},
   "outputs": [],
   "source": [
    "from googletrans import Translator\n",
    "from langdetect import detect\n",
    "import re\n",
    "from bs4 import BeautifulSoup\n",
    "\n",
    "translator = Translator()\n",
    "\n",
    "def extract_reviews(soup):\n",
    "    reviews = []\n",
    "    review_divs = soup.find_all('div', {'data-hook': 'review'})\n",
    "\n",
    "    for div in review_divs:\n",
    "        try:\n",
    "            review = {}\n",
    "            review['customer_name'] = div.find('span', {'class': 'a-profile-name'}).text.strip()\n",
    "            review['rating'] = div.find('span', {'class': 'a-icon-alt'}).text.split(' ')[0]\n",
    "            \n",
    "            a_tag = div.find('span', {'data-hook': 'review-title'})\n",
    "            if a_tag:\n",
    "                review['review_title'] = a_tag.find_all('span')[0].text.strip()\n",
    "            else:\n",
    "                review['review_title'] = \"\"\n",
    "            \n",
    "            text_element = div.find('span', {'class': 'a-size-base review-text review-text-content'})\n",
    "            if text_element and text_element.span:\n",
    "                text = text_element.span.text.strip()\n",
    "                if text:\n",
    "                    language = detect(text)\n",
    "                    if language != 'en':\n",
    "                        text = translator.translate(text, dest='en').text\n",
    "                review['review_text'] = text\n",
    "            else:\n",
    "                review['review_text'] = \"\"\n",
    "            \n",
    "            review['review_date'] = div.find('span', {'data-hook': 'review-date'}).text.strip()\n",
    "            pname = soup.find('a', {'data-hook': 'product-link'}).text.strip()\n",
    "            review['product_name'] = re.sub(r',', '', pname)\n",
    "            reviews.append(review)\n",
    "        except Exception as e:\n",
    "            print(f\"An error occurred: {e}\")\n",
    "            continue  # Skip to the next review in case of an error\n",
    "\n",
    "    print(\"-------------completed successfully---------------\")\n",
    "    return reviews\n"
   ]
  },
  {
   "cell_type": "code",
   "execution_count": 3,
   "id": "a66e9f6c-d416-4f4c-bb76-f2c8d700bfb2",
   "metadata": {},
   "outputs": [],
   "source": [
    "def save_to_csv(reviews, filename='reviews.csv'):\n",
    "    df = pd.DataFrame(reviews)\n",
    "    if os.path.isfile(filename):\n",
    "        df.to_csv(filename, mode='a', header=False, index=False)\n",
    "    else:\n",
    "        df.to_csv(filename, index=False)"
   ]
  },
  {
   "cell_type": "code",
   "execution_count": 4,
   "id": "0f873116-6577-481f-9f0d-0908e2181a91",
   "metadata": {},
   "outputs": [],
   "source": [
    "all_reviews = []"
   ]
  },
  {
   "cell_type": "code",
   "execution_count": 11,
   "id": "45eebaf2-ee1a-4f76-86d8-62e78a0d25b5",
   "metadata": {},
   "outputs": [
    {
     "name": "stdout",
     "output_type": "stream",
     "text": [
      "Scraping reviews from https://www.amazon.in/Intel-BX8071512100F-INTEL-I3-12100F-DESKTOP/product-reviews/B09NPJX7PV/ref=cm_cr_dp_d_show_all_btm?ie=UTF8&reviewerType=all_reviews\n",
      "-------------completed successfully---------------\n",
      "Scraping reviews from https://www.amazon.in/Intel-BX8071512100F-INTEL-I3-12100F-DESKTOP/product-reviews/B09NPJX7PV/ref=cm_cr_arp_d_paging_btm_next_2?ie=UTF8&reviewerType=all_reviews&pageNumber=2\n",
      "-------------completed successfully---------------\n",
      "Scraping reviews from https://www.amazon.in/Intel-BX8071512100F-INTEL-I3-12100F-DESKTOP/product-reviews/B09NPJX7PV/ref=cm_cr_getr_d_paging_btm_next_3?ie=UTF8&reviewerType=all_reviews&pageNumber=3\n",
      "-------------completed successfully---------------\n",
      "Scraping reviews from https://www.amazon.in/Intel-BX8071512100F-INTEL-I3-12100F-DESKTOP/product-reviews/B09NPJX7PV/ref=cm_cr_getr_d_paging_btm_next_4?ie=UTF8&reviewerType=all_reviews&pageNumber=4\n",
      "-------------completed successfully---------------\n",
      "Scraping reviews from https://www.amazon.in/Intel-BX8071512100F-INTEL-I3-12100F-DESKTOP/product-reviews/B09NPJX7PV/ref=cm_cr_getr_d_paging_btm_next_5?ie=UTF8&reviewerType=all_reviews&pageNumber=5\n",
      "-------------completed successfully---------------\n",
      "Scraping reviews from https://www.amazon.in/Intel-BX8071512100F-INTEL-I3-12100F-DESKTOP/product-reviews/B09NPJX7PV/ref=cm_cr_getr_d_paging_btm_next_6?ie=UTF8&reviewerType=all_reviews&pageNumber=6\n",
      "-------------completed successfully---------------\n",
      "Scraping reviews from https://www.amazon.in/Intel-BX8071512100F-INTEL-I3-12100F-DESKTOP/product-reviews/B09NPJX7PV/ref=cm_cr_getr_d_paging_btm_next_7?ie=UTF8&reviewerType=all_reviews&pageNumber=7\n",
      "-------------completed successfully---------------\n",
      "Scraping reviews from https://www.amazon.in/Intel-BX8071512100F-INTEL-I3-12100F-DESKTOP/product-reviews/B09NPJX7PV/ref=cm_cr_getr_d_paging_btm_next_8?ie=UTF8&reviewerType=all_reviews&pageNumber=8\n",
      "-------------completed successfully---------------\n",
      "Scraping reviews from https://www.amazon.in/Intel-BX8071512100F-INTEL-I3-12100F-DESKTOP/product-reviews/B09NPJX7PV/ref=cm_cr_getr_d_paging_btm_next_9?ie=UTF8&reviewerType=all_reviews&pageNumber=9\n",
      "-------------completed successfully---------------\n",
      "Scraping reviews from https://www.amazon.in/Intel-BX8071512100F-INTEL-I3-12100F-DESKTOP/product-reviews/B09NPJX7PV/ref=cm_cr_getr_d_paging_btm_next_10?ie=UTF8&reviewerType=all_reviews&pageNumber=10\n",
      "-------------completed successfully---------------\n"
     ]
    }
   ],
   "source": [
    "from selenium import webdriver\n",
    "from selenium.webdriver.common.by import By\n",
    "from selenium.webdriver.chrome.service import Service as ChromeService\n",
    "from webdriver_manager.chrome import ChromeDriverManager\n",
    "from bs4 import BeautifulSoup\n",
    "import time\n",
    "\n",
    "def scrape_reviews(url, driver):\n",
    "    driver.get(url)\n",
    "    time.sleep(2)  # Wait for the page to load\n",
    "    soup = BeautifulSoup(driver.page_source, 'html.parser')\n",
    "    all_reviews.extend(extract_reviews(soup))\n",
    "\n",
    "# Read URLs from the file\n",
    "with open('urls.txt', 'r') as file:\n",
    "    urls = file.readlines()\n",
    "\n",
    "# Remove any extra whitespace (e.g., newline characters) from each URL\n",
    "urls = [url.strip() for url in urls]\n",
    "\n",
    "# Setup Selenium WebDriver\n",
    "driver = webdriver.Chrome(service=ChromeService(ChromeDriverManager().install()))\n",
    "\n",
    "# Loop through each URL\n",
    "for current_url in urls:\n",
    "    try:\n",
    "        driver.get(current_url)\n",
    "        time.sleep(2)  # Wait for the page to load\n",
    "        if \"Sorry! We couldn't find that page\" in driver.page_source:\n",
    "            print(f\"Page not found: {current_url}. Stopping execution.\")\n",
    "            break\n",
    "        else:\n",
    "            print(f\"Scraping reviews from {current_url}\")\n",
    "            scrape_reviews(current_url, driver)\n",
    "            time.sleep(1)  # Add a delay to avoid hitting the server too frequently\n",
    "    except Exception as e:\n",
    "        print(f\"An error occurred: {e}\")\n",
    "        break\n",
    "\n",
    "# Close the driver\n",
    "driver.quit()\n"
   ]
  },
  {
   "cell_type": "code",
   "execution_count": 12,
   "id": "b5272932-4dc8-4563-b952-4032a3214161",
   "metadata": {},
   "outputs": [
    {
     "data": {
      "text/plain": [
       "100"
      ]
     },
     "execution_count": 12,
     "metadata": {},
     "output_type": "execute_result"
    }
   ],
   "source": [
    "len(all_reviews)"
   ]
  },
  {
   "cell_type": "code",
   "execution_count": 13,
   "id": "9f4204ea-9025-4697-bec6-5026cb315b23",
   "metadata": {},
   "outputs": [],
   "source": [
    "save_to_csv(all_reviews,\"xyz.csv\")"
   ]
  },
  {
   "cell_type": "code",
   "execution_count": null,
   "id": "33310f5c-f5d2-42d2-bea2-36755457dbb9",
   "metadata": {},
   "outputs": [],
   "source": []
  }
 ],
 "metadata": {
  "kernelspec": {
   "display_name": "Python 3 (ipykernel)",
   "language": "python",
   "name": "python3"
  },
  "language_info": {
   "codemirror_mode": {
    "name": "ipython",
    "version": 3
   },
   "file_extension": ".py",
   "mimetype": "text/x-python",
   "name": "python",
   "nbconvert_exporter": "python",
   "pygments_lexer": "ipython3",
   "version": "3.11.4"
  }
 },
 "nbformat": 4,
 "nbformat_minor": 5
}
