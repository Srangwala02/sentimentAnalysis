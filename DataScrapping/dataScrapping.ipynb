{
 "cells": [
  {
   "cell_type": "code",
   "execution_count": 25,
   "id": "c8c48c66-45aa-4e7d-828d-16e4c70a1dd0",
   "metadata": {},
   "outputs": [],
   "source": [
    "from bs4 import BeautifulSoup\n",
    "import requests\n",
    "import pandas as pd\n",
    "from langdetect import detect\n",
    "from translate import Translator\n",
    "import os"
   ]
  },
  {
   "cell_type": "code",
   "execution_count": 26,
   "id": "5edc32fd-918d-4e17-9a83-44eb645f5e17",
   "metadata": {},
   "outputs": [],
   "source": [
    "from googletrans import Translator\n",
    "from langdetect import detect\n",
    "import re\n",
    "from bs4 import BeautifulSoup\n",
    "\n",
    "translator = Translator()\n",
    "\n",
    "def extract_reviews(soup):\n",
    "    reviews = []\n",
    "    review_divs = soup.find_all('div', {'data-hook': 'review'})\n",
    "\n",
    "    for div in review_divs:\n",
    "        try:\n",
    "            review = {}\n",
    "            review['customer_name'] = div.find('span', {'class': 'a-profile-name'}).text.strip()\n",
    "            review['rating'] = div.find('span', {'class': 'a-icon-alt'}).text.split(' ')[0]\n",
    "            \n",
    "            a_tag = div.find('span', {'data-hook': 'review-title'})\n",
    "            if a_tag:\n",
    "                review['review_title'] = a_tag.find_all('span')[0].text.strip()\n",
    "            else:\n",
    "                review['review_title'] = \"\"\n",
    "            \n",
    "            text_element = div.find('span', {'class': 'a-size-base review-text review-text-content'})\n",
    "            if text_element and text_element.span:\n",
    "                text = text_element.span.text.strip()\n",
    "                if text:\n",
    "                    language = detect(text)\n",
    "                    if language != 'en':\n",
    "                        text = translator.translate(text, dest='en').text\n",
    "                review['review_text'] = text\n",
    "            else:\n",
    "                review['review_text'] = \"\"\n",
    "            \n",
    "            review['review_date'] = div.find('span', {'data-hook': 'review-date'}).text.strip()\n",
    "            pname = soup.find('a', {'data-hook': 'product-link'}).text.strip()\n",
    "            review['product_name'] = re.sub(r',', '', pname)\n",
    "            reviews.append(review)\n",
    "        except Exception as e:\n",
    "            print(f\"An error occurred: {e}\")\n",
    "            continue  # Skip to the next review in case of an error\n",
    "\n",
    "    print(\"-------------completed successfully---------------\")\n",
    "    return reviews\n"
   ]
  },
  {
   "cell_type": "code",
   "execution_count": 27,
   "id": "efefe1e9-5958-4151-9287-aefbe4ffaeb8",
   "metadata": {},
   "outputs": [],
   "source": [
    "all_reviews = []"
   ]
  },
  {
   "cell_type": "code",
   "execution_count": 28,
   "id": "c2879cf3-7418-4bc5-8f80-80108190a257",
   "metadata": {},
   "outputs": [],
   "source": [
    "def scrape_reviews(url):\n",
    "    headers = {\n",
    "        'authority': 'www.amazon.com',\n",
    "        'accept': 'text/html,application/xhtml+xml,application/xml;q=0.9,image/avif,image/webp,image/apng,/;q=0.8,application/signed-exchange;v=b3;q=0.9',\n",
    "        'accept-language': 'en-US,en;q=0.9,bn;q=0.8',\n",
    "        'sec-ch-ua': '\" Not A;Brand\";v=\"99\", \"Chromium\";v=\"102\", \"Google Chrome\";v=\"102\"',\n",
    "        'user-agent': 'Mozilla/5.0 (Windows NT 10.0; Win64; x64) AppleWebKit/537.36 (KHTML, like Gecko) Chrome/102.0.0.0 Safari/537.36'\n",
    "    }\n",
    "    response = requests.get(url, headers=headers)\n",
    "    soup = BeautifulSoup(response.content, 'html.parser')\n",
    "    all_reviews.extend(extract_reviews(soup))"
   ]
  },
  {
   "cell_type": "code",
   "execution_count": 29,
   "id": "84415808-4a66-4add-8943-3ac0f4fc4d39",
   "metadata": {},
   "outputs": [],
   "source": [
    "def save_to_csv(reviews, filename='reviewsx.csv'):\n",
    "    df = pd.DataFrame(reviews)\n",
    "    if os.path.isfile(filename):\n",
    "        df.to_csv(filename, mode='a', header=False, index=False)\n",
    "    else:\n",
    "        df.to_csv(filename, index=False)"
   ]
  },
  {
   "cell_type": "code",
   "execution_count": 30,
   "id": "4d1c6b99-e774-4179-8b0d-b1926f461d03",
   "metadata": {},
   "outputs": [
    {
     "name": "stdout",
     "output_type": "stream",
     "text": [
      "scrapping data from url :  https://www.amazon.in/Intel-Core-i3-12100-Quad-core-Processor/product-reviews/B09NPHJLPT/ref=cm_cr_dp_d_show_all_btm?ie=UTF8&reviewerType=all_reviews\n",
      "-------------completed successfully---------------\n",
      "scrapping data from url :  https://www.amazon.in/Intel-Core-i3-12100-Quad-core-Processor/product-reviews/B09NPHJLPT/ref=cm_cr_arp_d_paging_btm_next_2?ie=UTF8&reviewerType=all_reviews&pageNumber=2\n",
      "-------------completed successfully---------------\n",
      "scrapping data from url :  https://www.amazon.in/Intel-Core-i3-12100-Quad-core-Processor/product-reviews/B09NPHJLPT/ref=cm_cr_getr_d_paging_btm_next_3?ie=UTF8&reviewerType=all_reviews&pageNumber=3\n",
      "-------------completed successfully---------------\n",
      "scrapping data from url :  https://www.amazon.in/Intel-Core-i3-12100-Quad-core-Processor/product-reviews/B09NPHJLPT/ref=cm_cr_getr_d_paging_btm_next_4?ie=UTF8&reviewerType=all_reviews&pageNumber=4\n",
      "-------------completed successfully---------------\n",
      "scrapping data from url :  https://www.amazon.in/Intel-Core-i3-12100-Quad-core-Processor/product-reviews/B09NPHJLPT/ref=cm_cr_getr_d_paging_btm_next_5?ie=UTF8&reviewerType=all_reviews&pageNumber=5\n",
      "-------------completed successfully---------------\n",
      "scrapping data from url :  https://www.amazon.in/Intel-Core-i3-12100-Quad-core-Processor/product-reviews/B09NPHJLPT/ref=cm_cr_getr_d_paging_btm_next_6?ie=UTF8&reviewerType=all_reviews&pageNumber=6\n",
      "-------------completed successfully---------------\n",
      "scrapping data from url :  https://www.amazon.in/Intel-Core-i3-12100-Quad-core-Processor/product-reviews/B09NPHJLPT/ref=cm_cr_getr_d_paging_btm_next_7?ie=UTF8&reviewerType=all_reviews&pageNumber=7\n",
      "-------------completed successfully---------------\n",
      "scrapping data from url :  https://www.amazon.in/Intel-Core-i3-12100-Quad-core-Processor/product-reviews/B09NPHJLPT/ref=cm_cr_getr_d_paging_btm_next_8?ie=UTF8&reviewerType=all_reviews&pageNumber=8\n",
      "-------------completed successfully---------------\n",
      "scrapping data from url :  https://www.amazon.in/Intel-Core-i3-12100-Quad-core-Processor/product-reviews/B09NPHJLPT/ref=cm_cr_getr_d_paging_btm_next_9?ie=UTF8&reviewerType=all_reviews&pageNumber=9\n",
      "-------------completed successfully---------------\n",
      "scrapping data from url :  https://www.amazon.in/Intel-Core-i3-12100-Quad-core-Processor/product-reviews/B09NPHJLPT/ref=cm_cr_getr_d_paging_btm_next_10?ie=UTF8&reviewerType=all_reviews&pageNumber=10\n",
      "-------------completed successfully---------------\n",
      "scrapping data from url :  https://www.amazon.in/Intel-BX8071512100F-INTEL-I3-12100F-DESKTOP/product-reviews/B09NPJX7PV/ref=cm_cr_dp_d_show_all_btm?ie=UTF8&reviewerType=all_reviews\n",
      "-------------completed successfully---------------\n",
      "scrapping data from url :  https://www.amazon.in/Intel-BX8071512100F-INTEL-I3-12100F-DESKTOP/product-reviews/B09NPJX7PV/ref=cm_cr_arp_d_paging_btm_next_2?ie=UTF8&reviewerType=all_reviews&pageNumber=2\n",
      "-------------completed successfully---------------\n"
     ]
    }
   ],
   "source": [
    "import time\n",
    "\n",
    "# Read URLs from the file\n",
    "with open('urls.txt', 'r') as file:\n",
    "    urls = file.readlines()\n",
    "\n",
    "# Remove any extra whitespace (e.g., newline characters) from each URL\n",
    "urls = [url.strip() for url in urls]\n",
    "\n",
    "cnt = 0\n",
    "# Loop through each URL\n",
    "for current_url in urls:\n",
    "    try:\n",
    "        print(\"scrapping data from url : \",current_url)\n",
    "        scrape_reviews(current_url)\n",
    "        cnt = cnt +1\n",
    "        if cnt==10:\n",
    "            cnt = 0\n",
    "            save_to_csv(all_reviews,\"reviews.csv\")\n",
    "            all_reviews = []\n",
    "        time.sleep(2)\n",
    "    except Exception as e:\n",
    "        print(f\"An error occurred: {e}\")\n",
    "        break\n",
    "\n",
    "save_to_csv(all_reviews,\"reviews.csv\")"
   ]
  },
  {
   "cell_type": "code",
   "execution_count": null,
   "id": "a9eeb199-ed24-43d6-aaf8-dd11b43d1b1b",
   "metadata": {},
   "outputs": [],
   "source": []
  }
 ],
 "metadata": {
  "kernelspec": {
   "display_name": "Python 3 (ipykernel)",
   "language": "python",
   "name": "python3"
  },
  "language_info": {
   "codemirror_mode": {
    "name": "ipython",
    "version": 3
   },
   "file_extension": ".py",
   "mimetype": "text/x-python",
   "name": "python",
   "nbconvert_exporter": "python",
   "pygments_lexer": "ipython3",
   "version": "3.11.4"
  }
 },
 "nbformat": 4,
 "nbformat_minor": 5
}
